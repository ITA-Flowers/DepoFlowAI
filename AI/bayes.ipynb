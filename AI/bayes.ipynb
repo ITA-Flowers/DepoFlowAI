{
 "cells": [
  {
   "cell_type": "markdown",
   "metadata": {},
   "source": [
    "# Dopasowywanie wyłuskanych za pomocą NLP sąsiadujących słów kluczowych do właściwego modelu danych:"
   ]
  },
  {
   "cell_type": "code",
   "execution_count": null,
   "metadata": {},
   "outputs": [],
   "source": [
    "# Przykładowy rekord\n",
    "model = {'type':\"Lokata\",\n",
    "         'name':\"Lokata mobilna plus\",\n",
    "         'duration(months)': 12,\n",
    "         'percentage': 4,\n",
    "         'customer_type': \"Indywidualny\",\n",
    "         'offer_type': \"Dla nowych środków\",\n",
    "         'max_deposit_amount':200000,\n",
    "         'bank': \"mBank\"}"
   ]
  },
  {
   "cell_type": "markdown",
   "metadata": {},
   "source": [
    "Za pomocą wyuczonego modelu NLP z tekstu dokumentu wyfiltrowanego ze strony banku wyłuskane zostają słową kluczowe. Następnie, taki zestaw jest klasyfikowany przez algorytmem Naive Bayes i dopasowywany do odpowiednich etykiet."
   ]
  },
  {
   "cell_type": "markdown",
   "metadata": {},
   "source": [
    "Model Naive Bayes uczony był za pomocą specjalnie wygenerowanych losowo danych, uwzględniających wszystkie banki które zostały wskazane przez organizatorów wydarzenia.\n",
    "\n",
    "Fragment pliku .csv z wygenerowanymi danymi:\n",
    "\n",
    "| type   | name         | duration(months) | percentage | customer_type | offer_type         | max_deposit_amount | bank         |\n",
    "|--------|--------------|-------------------|------------|----------------|--------------------|--------------------|--------------|\n",
    "| Lokata | Super Lokata | 11                | 4.55       | Korporacyjny   | Dla nowych srodkow | 44848              | mBank        |\n",
    "\n"
   ]
  },
  {
   "cell_type": "markdown",
   "metadata": {},
   "source": [
    "Algorytm Naive Bayes osiągnął świetny wynik po przetestowaniu go za pomocą zbioru testowego (100% właściwego dopasowania). Dane w zbiorze testowym pochodziły jednak ze sztucznie wygenerowanego zestawu danych. \n",
    "\n",
    "### Generowanie danych wykorzyzstanych do uczenia:"
   ]
  },
  {
   "cell_type": "code",
   "execution_count": null,
   "metadata": {},
   "outputs": [],
   "source": [
    "import random\n",
    "import pandas as pd \n",
    "\n",
    "def generate_random_financial_product():\n",
    "    # 1. Typ\n",
    "    product_type = random.choice(['Konto oszczędnościowe', 'Lokata'])\n",
    "    \n",
    "    # 2. Nazwa\n",
    "    product_name = random.choice(['Super Lokata', 'Mega Konto Oszczędnościowe', 'Elastyczna Inwestycja', 'Premium Plus'])\n",
    "\n",
    "    # 3. Długość (w miesiącach)\n",
    "    duration_months = random.randint(1, 60)  # Losowa liczba miesięcy od 1 do 60\n",
    "\n",
    "    # 4. Wysokość oprocentowania (zazwyczaj w okolicach 4-5%)\n",
    "    interest_rate = round(random.uniform(4, 5), 2)  # Losowa wartość z zakresu 4-5 z dwoma miejscami po przecinku\n",
    "\n",
    "    # 5. Typ klienta\n",
    "    customer_type = random.choice(['Indywidualny', 'Korporacyjny', 'Samorzad'])\n",
    "\n",
    "    # 6. Rodzaj oferty\n",
    "    offer_type = random.choice(['Dla nowych', 'Dla wszystkich', 'Dla nowych srodkow'])\n",
    "\n",
    "    # 7. Maksymalna kwota depozytu\n",
    "    max_deposit_amount = random.randint(1000, 100000)  # Losowa kwota od 1000 do 100 000\n",
    "\n",
    "    # 8. Bank\n",
    "    banks = ['ING Bank Slaski', 'Alior Bank', 'mBank', 'Citibank', 'PEKAO S.A', 'PKO B.P', 'Bank Pocztowy S.A.',\n",
    "             'Nest Bank', 'Plus Bank', 'Santander Bank Polska', 'Santander Consumer Bank', 'Toyota Bank Polska',\n",
    "             'VeloBank S.A.', 'Bank Nowy', 'Bank Millenium', 'Bank Ochrony Srodowiska', 'Deutsche Bank Polska']\n",
    "    bank = random.choice(banks)\n",
    "\n",
    "    return {\n",
    "        'type': product_type,\n",
    "        'name': product_name,\n",
    "        'duration [months]': duration_months,\n",
    "        'percentage': interest_rate,\n",
    "        'customer_type': customer_type,\n",
    "        'offer_type': offer_type,\n",
    "        'max_deposit_amount': max_deposit_amount,\n",
    "        'bank': bank\n",
    "    }\n",
    "\n",
    "def save_to_csv(file_path, data):\n",
    "    df = pd.DataFrame(data)\n",
    "    df.to_csv(file_path, index=False, encoding='utf-8')\n",
    "\n",
    "\n",
    "num_records = 1024\n",
    "generated_data = [generate_random_financial_product() for _ in range(num_records)]\n",
    "\n",
    "csv_file_path = 'data_to_learn_model.csv'\n",
    "save_to_csv(csv_file_path, generated_data)"
   ]
  },
  {
   "cell_type": "markdown",
   "metadata": {},
   "source": [
    "#### Klasyfikacja danych za pomocą modelu Naive Bayes:"
   ]
  },
  {
   "cell_type": "code",
   "execution_count": null,
   "metadata": {},
   "outputs": [],
   "source": [
    "import pandas as pd\n",
    "from sklearn.feature_extraction.text import CountVectorizer\n",
    "from sklearn.model_selection import train_test_split\n",
    "from sklearn.naive_bayes import MultinomialNB\n",
    "from sklearn.preprocessing import MultiLabelBinarizer\n",
    "from sklearn.metrics import accuracy_score\n",
    "\n",
    "# Lista etykiet\n",
    "labels = [\"type\", \"name\", \"duration(months)\", \"percentage\", \"customer_type\", \"offer_type\", \"max_deposit_amount\", \"bank\"]\n",
    "\n",
    "# Słownik mapujący etykiety na liczby całkowite\n",
    "labels_mapping = {'type': 0, 'name': 1, 'duration(months)': 2, 'percentage': 3, 'customer_type': 4, 'offer_type': 5, 'max_deposit_amount': 6, 'bank': 7}\n",
    "\n",
    "# Wczytanie pliku CSV do ramki danych\n",
    "csv_file_path = 'D:/Projekty/Modules/scrapper/data/data_to_learn_model.csv'\n",
    "df = pd.read_csv(csv_file_path)\n",
    "\n",
    "# Utworzono listę, do której będziemy dodawać pojedyncze stringi\n",
    "all_texts = df['name'].astype(str).tolist()\n",
    "\n",
    "# Przekształcenie etykiet na liczby całkowite\n",
    "y = df[labels].apply(lambda row: [labels_mapping.get(key, 'Unknown') for key in row], axis=1)\n",
    "\n",
    "# Wykorzystanie MultiLabelBinarizer do przekształcenia sekwencji etykiet na macierz binarną\n",
    "mlb = MultiLabelBinarizer()\n",
    "y_train_binary = mlb.fit_transform(y)\n",
    "\n",
    "# Podzielono dane na zbiór treningowy i testowy\n",
    "X_train, X_test, y_train_binary, y_test = train_test_split(all_texts, y_train_binary, test_size=0.2, random_state=42)\n",
    "\n",
    "# Przygotowane wektory cech za pomocą CountVectorizer\n",
    "vectorizer = CountVectorizer()\n",
    "X_train_vectorized = vectorizer.fit_transform(X_train)\n",
    "X_test_vectorized = vectorizer.transform(X_test)\n",
    "\n",
    "# Trenowanie modelu klasyfikacyjnego:\n",
    "clf = MultinomialNB()\n",
    "clf.fit(X_train_vectorized, y_train_binary)\n",
    "\n",
    "# Ocena skuteczności modelu na zbiorze testowym:\n",
    "y_pred = clf.predict(X_test_vectorized)\n",
    "accuracy = accuracy_score(y_test, y_pred)\n",
    "print(f\"Accuracy: {accuracy}\")"
   ]
  }
 ],
 "metadata": {
  "language_info": {
   "name": "python"
  }
 },
 "nbformat": 4,
 "nbformat_minor": 2
}
